{
 "cells": [
  {
   "cell_type": "markdown",
   "id": "3a732b68",
   "metadata": {},
   "source": [
    "# Procesa indicadores\n",
    "\n",
    "Jupyter notebook con el procesamiento y cálculo de índices e indicadores de Complejidad Económica"
   ]
  },
  {
   "cell_type": "code",
   "execution_count": 249,
   "id": "41ac4550",
   "metadata": {},
   "outputs": [],
   "source": [
    "import pandas as pd\n",
    "import numpy as np\n",
    "from matplotlib import pyplot as plt\n",
    "import pickle"
   ]
  },
  {
   "cell_type": "markdown",
   "id": "8a56e99b",
   "metadata": {},
   "source": [
    "## Importa bases"
   ]
  },
  {
   "cell_type": "code",
   "execution_count": 250,
   "id": "50504fd5",
   "metadata": {},
   "outputs": [],
   "source": [
    "DATASETS_DIR = './datasets/'\n",
    "variable = 'empleo'"
   ]
  },
  {
   "cell_type": "code",
   "execution_count": 251,
   "id": "e026183d",
   "metadata": {},
   "outputs": [
    {
     "data": {
      "text/html": [
       "<div>\n",
       "<style scoped>\n",
       "    .dataframe tbody tr th:only-of-type {\n",
       "        vertical-align: middle;\n",
       "    }\n",
       "\n",
       "    .dataframe tbody tr th {\n",
       "        vertical-align: top;\n",
       "    }\n",
       "\n",
       "    .dataframe thead th {\n",
       "        text-align: right;\n",
       "    }\n",
       "</style>\n",
       "<table border=\"1\" class=\"dataframe\">\n",
       "  <thead>\n",
       "    <tr style=\"text-align: right;\">\n",
       "      <th></th>\n",
       "      <th>in_departamentos</th>\n",
       "      <th>departamento</th>\n",
       "      <th>provincia_id</th>\n",
       "      <th>provincia</th>\n",
       "      <th>clae6</th>\n",
       "      <th>clae2</th>\n",
       "      <th>letra</th>\n",
       "      <th>Empleo</th>\n",
       "      <th>Establecimientos</th>\n",
       "    </tr>\n",
       "  </thead>\n",
       "  <tbody>\n",
       "    <tr>\n",
       "      <th>0</th>\n",
       "      <td>30077</td>\n",
       "      <td>Nogoyá</td>\n",
       "      <td>30</td>\n",
       "      <td>Entre Rios</td>\n",
       "      <td>475230</td>\n",
       "      <td>47</td>\n",
       "      <td>G</td>\n",
       "      <td>3</td>\n",
       "      <td>2</td>\n",
       "    </tr>\n",
       "    <tr>\n",
       "      <th>1</th>\n",
       "      <td>70070</td>\n",
       "      <td>Pocito</td>\n",
       "      <td>70</td>\n",
       "      <td>San Juan</td>\n",
       "      <td>13019</td>\n",
       "      <td>1</td>\n",
       "      <td>A</td>\n",
       "      <td>39</td>\n",
       "      <td>8</td>\n",
       "    </tr>\n",
       "    <tr>\n",
       "      <th>2</th>\n",
       "      <td>2105</td>\n",
       "      <td>Comuna 15</td>\n",
       "      <td>2</td>\n",
       "      <td>CABA</td>\n",
       "      <td>141201</td>\n",
       "      <td>14</td>\n",
       "      <td>C</td>\n",
       "      <td>12</td>\n",
       "      <td>4</td>\n",
       "    </tr>\n",
       "    <tr>\n",
       "      <th>3</th>\n",
       "      <td>62021</td>\n",
       "      <td>Bariloche</td>\n",
       "      <td>62</td>\n",
       "      <td>Rio Negro</td>\n",
       "      <td>702092</td>\n",
       "      <td>70</td>\n",
       "      <td>M</td>\n",
       "      <td>36</td>\n",
       "      <td>9</td>\n",
       "    </tr>\n",
       "    <tr>\n",
       "      <th>4</th>\n",
       "      <td>6609</td>\n",
       "      <td>Pehuajó</td>\n",
       "      <td>6</td>\n",
       "      <td>Buenos Aires</td>\n",
       "      <td>14113</td>\n",
       "      <td>1</td>\n",
       "      <td>A</td>\n",
       "      <td>266</td>\n",
       "      <td>85</td>\n",
       "    </tr>\n",
       "  </tbody>\n",
       "</table>\n",
       "</div>"
      ],
      "text/plain": [
       "   in_departamentos departamento  provincia_id     provincia   clae6  clae2  \\\n",
       "0             30077       Nogoyá            30    Entre Rios  475230     47   \n",
       "1             70070       Pocito            70      San Juan   13019      1   \n",
       "2              2105    Comuna 15             2          CABA  141201     14   \n",
       "3             62021    Bariloche            62     Rio Negro  702092     70   \n",
       "4              6609      Pehuajó             6  Buenos Aires   14113      1   \n",
       "\n",
       "  letra  Empleo  Establecimientos  \n",
       "0     G       3                 2  \n",
       "1     A      39                 8  \n",
       "2     C      12                 4  \n",
       "3     M      36                 9  \n",
       "4     A     266                85  "
      ]
     },
     "execution_count": 251,
     "metadata": {},
     "output_type": "execute_result"
    }
   ],
   "source": [
    "# Importamos la base para trabajar\n",
    "empleo_depto_act = pd.read_csv(DATASETS_DIR + \"Datos_por_departamento_y_actividad.csv\")\n",
    "empleo_depto_act.head()"
   ]
  },
  {
   "cell_type": "code",
   "execution_count": 252,
   "id": "96fc3be8",
   "metadata": {},
   "outputs": [],
   "source": [
    "# Por decisión metodológica, vamos a considerar a CABA dentro de la provincia de Buenos Aires, por lo que reemplazamos su nombre y código.\n",
    "empleo_depto_act.provincia = empleo_depto_act.provincia.replace('CABA', 'Buenos Aires')\n",
    "empleo_depto_act.provincia_id = empleo_depto_act.provincia_id.replace(2, 6)"
   ]
  },
  {
   "cell_type": "code",
   "execution_count": 253,
   "id": "2c46af97",
   "metadata": {},
   "outputs": [
    {
     "data": {
      "text/plain": [
       "(96379, 9)"
      ]
     },
     "execution_count": 253,
     "metadata": {},
     "output_type": "execute_result"
    }
   ],
   "source": [
    "empleo_depto_act.shape"
   ]
  },
  {
   "cell_type": "markdown",
   "id": "7e869d79",
   "metadata": {},
   "source": [
    "## Calcula Location quotients o Ventajas Comparativas Reveladas\n",
    "Una economía está especializada en la producción de un bien o servicio cuando la participación del mismo en su empleo total sea superior a la participación del empleo de ese producto o servicio en el total de Argentina. Este cálculo es usualmente conocido como el de las Ventajas Comparativas Reveladas (VCR), aunque en la literatura de CE y empleo se lo puede conocer también como especialización o *location quotient*. De esta manera entonces, la especialización de una provincia *p* en una actividad *a* y siendo $E_{pa}$ el empleo de una provincia en una actividad, se va a calcular como:\n",
    "\n",
    "$$\n",
    "LC_{pa} = \\dfrac{E_{pa} / \\sum_{c} E_{pa}}{\\sum_{a} E_{pa} / \\sum_{p} \\sum_{a} E_{pa}}\n",
    "$$"
   ]
  },
  {
   "cell_type": "code",
   "execution_count": 254,
   "id": "d426e5be",
   "metadata": {},
   "outputs": [
    {
     "data": {
      "text/html": [
       "<div>\n",
       "<style scoped>\n",
       "    .dataframe tbody tr th:only-of-type {\n",
       "        vertical-align: middle;\n",
       "    }\n",
       "\n",
       "    .dataframe tbody tr th {\n",
       "        vertical-align: top;\n",
       "    }\n",
       "\n",
       "    .dataframe thead th {\n",
       "        text-align: right;\n",
       "    }\n",
       "</style>\n",
       "<table border=\"1\" class=\"dataframe\">\n",
       "  <thead>\n",
       "    <tr style=\"text-align: right;\">\n",
       "      <th></th>\n",
       "      <th>provincia_id</th>\n",
       "      <th>provincia</th>\n",
       "      <th>clae6</th>\n",
       "      <th>empleo</th>\n",
       "    </tr>\n",
       "  </thead>\n",
       "  <tbody>\n",
       "    <tr>\n",
       "      <th>0</th>\n",
       "      <td>30</td>\n",
       "      <td>Entre Rios</td>\n",
       "      <td>475230</td>\n",
       "      <td>3</td>\n",
       "    </tr>\n",
       "    <tr>\n",
       "      <th>1</th>\n",
       "      <td>70</td>\n",
       "      <td>San Juan</td>\n",
       "      <td>013019</td>\n",
       "      <td>39</td>\n",
       "    </tr>\n",
       "    <tr>\n",
       "      <th>2</th>\n",
       "      <td>6</td>\n",
       "      <td>Buenos Aires</td>\n",
       "      <td>141201</td>\n",
       "      <td>12</td>\n",
       "    </tr>\n",
       "    <tr>\n",
       "      <th>3</th>\n",
       "      <td>62</td>\n",
       "      <td>Rio Negro</td>\n",
       "      <td>702092</td>\n",
       "      <td>36</td>\n",
       "    </tr>\n",
       "    <tr>\n",
       "      <th>4</th>\n",
       "      <td>6</td>\n",
       "      <td>Buenos Aires</td>\n",
       "      <td>014113</td>\n",
       "      <td>266</td>\n",
       "    </tr>\n",
       "  </tbody>\n",
       "</table>\n",
       "</div>"
      ],
      "text/plain": [
       "   provincia_id     provincia   clae6  empleo\n",
       "0            30    Entre Rios  475230       3\n",
       "1            70      San Juan  013019      39\n",
       "2             6  Buenos Aires  141201      12\n",
       "3            62     Rio Negro  702092      36\n",
       "4             6  Buenos Aires  014113     266"
      ]
     },
     "execution_count": 254,
     "metadata": {},
     "output_type": "execute_result"
    }
   ],
   "source": [
    "#Matriz de empleo por provincia y actividad. Sería Xcp.\n",
    "\n",
    "df_base = empleo_depto_act[['provincia_id', 'provincia', 'clae6', 'Empleo']].copy()\n",
    "df_base.rename(columns = {'Empleo':'empleo'}, inplace = True)\n",
    "df_base.clae6 = df_base.clae6.apply(lambda x: f'{x:06}')\n",
    "df_base.head()"
   ]
  },
  {
   "cell_type": "code",
   "execution_count": 255,
   "id": "1030d1ea",
   "metadata": {},
   "outputs": [
    {
     "data": {
      "text/html": [
       "<div>\n",
       "<style scoped>\n",
       "    .dataframe tbody tr th:only-of-type {\n",
       "        vertical-align: middle;\n",
       "    }\n",
       "\n",
       "    .dataframe tbody tr th {\n",
       "        vertical-align: top;\n",
       "    }\n",
       "\n",
       "    .dataframe thead th {\n",
       "        text-align: right;\n",
       "    }\n",
       "</style>\n",
       "<table border=\"1\" class=\"dataframe\">\n",
       "  <thead>\n",
       "    <tr style=\"text-align: right;\">\n",
       "      <th></th>\n",
       "      <th>provincia</th>\n",
       "      <th>provincia_id</th>\n",
       "      <th>clae6</th>\n",
       "      <th>empleo</th>\n",
       "    </tr>\n",
       "  </thead>\n",
       "  <tbody>\n",
       "    <tr>\n",
       "      <th>0</th>\n",
       "      <td>Buenos Aires</td>\n",
       "      <td>6</td>\n",
       "      <td>011111</td>\n",
       "      <td>137</td>\n",
       "    </tr>\n",
       "    <tr>\n",
       "      <th>1</th>\n",
       "      <td>Buenos Aires</td>\n",
       "      <td>6</td>\n",
       "      <td>011112</td>\n",
       "      <td>2848</td>\n",
       "    </tr>\n",
       "    <tr>\n",
       "      <th>2</th>\n",
       "      <td>Buenos Aires</td>\n",
       "      <td>6</td>\n",
       "      <td>011119</td>\n",
       "      <td>11784</td>\n",
       "    </tr>\n",
       "    <tr>\n",
       "      <th>3</th>\n",
       "      <td>Buenos Aires</td>\n",
       "      <td>6</td>\n",
       "      <td>011121</td>\n",
       "      <td>725</td>\n",
       "    </tr>\n",
       "    <tr>\n",
       "      <th>4</th>\n",
       "      <td>Buenos Aires</td>\n",
       "      <td>6</td>\n",
       "      <td>011129</td>\n",
       "      <td>446</td>\n",
       "    </tr>\n",
       "  </tbody>\n",
       "</table>\n",
       "</div>"
      ],
      "text/plain": [
       "      provincia  provincia_id   clae6  empleo\n",
       "0  Buenos Aires             6  011111     137\n",
       "1  Buenos Aires             6  011112    2848\n",
       "2  Buenos Aires             6  011119   11784\n",
       "3  Buenos Aires             6  011121     725\n",
       "4  Buenos Aires             6  011129     446"
      ]
     },
     "execution_count": 255,
     "metadata": {},
     "output_type": "execute_result"
    }
   ],
   "source": [
    "# Dado que los cálculos se hacen a nivel provincial y están desagregados por departamento, entonces hay que agrupar los datos de empleo.\n",
    "\n",
    "df_base = df_base.groupby(['provincia','provincia_id', 'clae6'])[[variable]].sum().reset_index().sort_values(by =['provincia_id', 'clae6'])\n",
    "df_base.head()"
   ]
  },
  {
   "cell_type": "code",
   "execution_count": 256,
   "id": "8aa3f87c",
   "metadata": {},
   "outputs": [
    {
     "data": {
      "text/html": [
       "<div>\n",
       "<style scoped>\n",
       "    .dataframe tbody tr th:only-of-type {\n",
       "        vertical-align: middle;\n",
       "    }\n",
       "\n",
       "    .dataframe tbody tr th {\n",
       "        vertical-align: top;\n",
       "    }\n",
       "\n",
       "    .dataframe thead th {\n",
       "        text-align: right;\n",
       "    }\n",
       "</style>\n",
       "<table border=\"1\" class=\"dataframe\">\n",
       "  <thead>\n",
       "    <tr style=\"text-align: right;\">\n",
       "      <th></th>\n",
       "      <th>empleo</th>\n",
       "    </tr>\n",
       "    <tr>\n",
       "      <th>provincia_id</th>\n",
       "      <th></th>\n",
       "    </tr>\n",
       "  </thead>\n",
       "  <tbody>\n",
       "    <tr>\n",
       "      <th>6</th>\n",
       "      <td>3536103</td>\n",
       "    </tr>\n",
       "    <tr>\n",
       "      <th>10</th>\n",
       "      <td>29036</td>\n",
       "    </tr>\n",
       "    <tr>\n",
       "      <th>14</th>\n",
       "      <td>511735</td>\n",
       "    </tr>\n",
       "    <tr>\n",
       "      <th>18</th>\n",
       "      <td>78844</td>\n",
       "    </tr>\n",
       "    <tr>\n",
       "      <th>22</th>\n",
       "      <td>82772</td>\n",
       "    </tr>\n",
       "  </tbody>\n",
       "</table>\n",
       "</div>"
      ],
      "text/plain": [
       "               empleo\n",
       "provincia_id         \n",
       "6             3536103\n",
       "10              29036\n",
       "14             511735\n",
       "18              78844\n",
       "22              82772"
      ]
     },
     "execution_count": 256,
     "metadata": {},
     "output_type": "execute_result"
    }
   ],
   "source": [
    "# Calculamos el vector de empleo total por provincia (sum p Xcp)\n",
    "\n",
    "df_agrup_p = df_base.groupby(['provincia_id'])[[variable]].sum()\n",
    "df_agrup_p.head()"
   ]
  },
  {
   "cell_type": "code",
   "execution_count": 257,
   "id": "163296cb",
   "metadata": {},
   "outputs": [
    {
     "data": {
      "text/html": [
       "<div>\n",
       "<style scoped>\n",
       "    .dataframe tbody tr th:only-of-type {\n",
       "        vertical-align: middle;\n",
       "    }\n",
       "\n",
       "    .dataframe tbody tr th {\n",
       "        vertical-align: top;\n",
       "    }\n",
       "\n",
       "    .dataframe thead th {\n",
       "        text-align: right;\n",
       "    }\n",
       "</style>\n",
       "<table border=\"1\" class=\"dataframe\">\n",
       "  <thead>\n",
       "    <tr style=\"text-align: right;\">\n",
       "      <th></th>\n",
       "      <th>provincia</th>\n",
       "      <th>provincia_id</th>\n",
       "      <th>clae6</th>\n",
       "      <th>empleo_x</th>\n",
       "      <th>empleo_y</th>\n",
       "      <th>porc_prov</th>\n",
       "    </tr>\n",
       "  </thead>\n",
       "  <tbody>\n",
       "    <tr>\n",
       "      <th>0</th>\n",
       "      <td>Buenos Aires</td>\n",
       "      <td>6</td>\n",
       "      <td>011111</td>\n",
       "      <td>137</td>\n",
       "      <td>3536103</td>\n",
       "      <td>0.000039</td>\n",
       "    </tr>\n",
       "    <tr>\n",
       "      <th>1</th>\n",
       "      <td>Buenos Aires</td>\n",
       "      <td>6</td>\n",
       "      <td>011112</td>\n",
       "      <td>2848</td>\n",
       "      <td>3536103</td>\n",
       "      <td>0.000805</td>\n",
       "    </tr>\n",
       "    <tr>\n",
       "      <th>2</th>\n",
       "      <td>Buenos Aires</td>\n",
       "      <td>6</td>\n",
       "      <td>011119</td>\n",
       "      <td>11784</td>\n",
       "      <td>3536103</td>\n",
       "      <td>0.003332</td>\n",
       "    </tr>\n",
       "    <tr>\n",
       "      <th>3</th>\n",
       "      <td>Buenos Aires</td>\n",
       "      <td>6</td>\n",
       "      <td>011121</td>\n",
       "      <td>725</td>\n",
       "      <td>3536103</td>\n",
       "      <td>0.000205</td>\n",
       "    </tr>\n",
       "    <tr>\n",
       "      <th>4</th>\n",
       "      <td>Buenos Aires</td>\n",
       "      <td>6</td>\n",
       "      <td>011129</td>\n",
       "      <td>446</td>\n",
       "      <td>3536103</td>\n",
       "      <td>0.000126</td>\n",
       "    </tr>\n",
       "  </tbody>\n",
       "</table>\n",
       "</div>"
      ],
      "text/plain": [
       "      provincia  provincia_id   clae6  empleo_x  empleo_y  porc_prov\n",
       "0  Buenos Aires             6  011111       137   3536103   0.000039\n",
       "1  Buenos Aires             6  011112      2848   3536103   0.000805\n",
       "2  Buenos Aires             6  011119     11784   3536103   0.003332\n",
       "3  Buenos Aires             6  011121       725   3536103   0.000205\n",
       "4  Buenos Aires             6  011129       446   3536103   0.000126"
      ]
     },
     "execution_count": 257,
     "metadata": {},
     "output_type": "execute_result"
    }
   ],
   "source": [
    "# Calculamos el ratio que representa el empleo de una actividad en el empleo de la provincia\n",
    "\n",
    "df_prov = df_base.merge(df_agrup_p, how='left', on='provincia_id')\n",
    "df_prov['porc_prov']=df_prov[f'{variable}_x']/df_prov[f'{variable}_y' ]\n",
    "df_prov.head()"
   ]
  },
  {
   "cell_type": "code",
   "execution_count": 258,
   "id": "7f971006",
   "metadata": {},
   "outputs": [
    {
     "data": {
      "text/html": [
       "<div>\n",
       "<style scoped>\n",
       "    .dataframe tbody tr th:only-of-type {\n",
       "        vertical-align: middle;\n",
       "    }\n",
       "\n",
       "    .dataframe tbody tr th {\n",
       "        vertical-align: top;\n",
       "    }\n",
       "\n",
       "    .dataframe thead th {\n",
       "        text-align: right;\n",
       "    }\n",
       "</style>\n",
       "<table border=\"1\" class=\"dataframe\">\n",
       "  <thead>\n",
       "    <tr style=\"text-align: right;\">\n",
       "      <th></th>\n",
       "      <th>empleo</th>\n",
       "    </tr>\n",
       "    <tr>\n",
       "      <th>clae6</th>\n",
       "      <th></th>\n",
       "    </tr>\n",
       "  </thead>\n",
       "  <tbody>\n",
       "    <tr>\n",
       "      <th>011111</th>\n",
       "      <td>2814</td>\n",
       "    </tr>\n",
       "    <tr>\n",
       "      <th>011112</th>\n",
       "      <td>4429</td>\n",
       "    </tr>\n",
       "    <tr>\n",
       "      <th>011119</th>\n",
       "      <td>21212</td>\n",
       "    </tr>\n",
       "    <tr>\n",
       "      <th>011121</th>\n",
       "      <td>2337</td>\n",
       "    </tr>\n",
       "    <tr>\n",
       "      <th>011129</th>\n",
       "      <td>850</td>\n",
       "    </tr>\n",
       "  </tbody>\n",
       "</table>\n",
       "</div>"
      ],
      "text/plain": [
       "        empleo\n",
       "clae6         \n",
       "011111    2814\n",
       "011112    4429\n",
       "011119   21212\n",
       "011121    2337\n",
       "011129     850"
      ]
     },
     "execution_count": 258,
     "metadata": {},
     "output_type": "execute_result"
    }
   ],
   "source": [
    "#Calculamos el vector de empleo total por actividad (sum c Xcp)\n",
    "\n",
    "df_agrup_a = df_base.groupby(['clae6'])[[variable]].sum()\n",
    "df_agrup_a.head()"
   ]
  },
  {
   "cell_type": "code",
   "execution_count": 259,
   "id": "8f37a1e0",
   "metadata": {},
   "outputs": [
    {
     "data": {
      "text/plain": [
       "6282235"
      ]
     },
     "execution_count": 259,
     "metadata": {},
     "output_type": "execute_result"
    }
   ],
   "source": [
    "# Calculo empleo total de Argentina para denominador\n",
    "\n",
    "df_agrup_pa = df_agrup_a[variable].sum()\n",
    "df_agrup_pa"
   ]
  },
  {
   "cell_type": "code",
   "execution_count": 260,
   "id": "1d1a23d0",
   "metadata": {},
   "outputs": [
    {
     "data": {
      "text/html": [
       "<div>\n",
       "<style scoped>\n",
       "    .dataframe tbody tr th:only-of-type {\n",
       "        vertical-align: middle;\n",
       "    }\n",
       "\n",
       "    .dataframe tbody tr th {\n",
       "        vertical-align: top;\n",
       "    }\n",
       "\n",
       "    .dataframe thead th {\n",
       "        text-align: right;\n",
       "    }\n",
       "</style>\n",
       "<table border=\"1\" class=\"dataframe\">\n",
       "  <thead>\n",
       "    <tr style=\"text-align: right;\">\n",
       "      <th></th>\n",
       "      <th>empleo</th>\n",
       "      <th>empleo_total</th>\n",
       "      <th>porc_act</th>\n",
       "    </tr>\n",
       "    <tr>\n",
       "      <th>clae6</th>\n",
       "      <th></th>\n",
       "      <th></th>\n",
       "      <th></th>\n",
       "    </tr>\n",
       "  </thead>\n",
       "  <tbody>\n",
       "    <tr>\n",
       "      <th>011111</th>\n",
       "      <td>2814</td>\n",
       "      <td>6282235</td>\n",
       "      <td>0.000448</td>\n",
       "    </tr>\n",
       "    <tr>\n",
       "      <th>011112</th>\n",
       "      <td>4429</td>\n",
       "      <td>6282235</td>\n",
       "      <td>0.000705</td>\n",
       "    </tr>\n",
       "    <tr>\n",
       "      <th>011119</th>\n",
       "      <td>21212</td>\n",
       "      <td>6282235</td>\n",
       "      <td>0.003377</td>\n",
       "    </tr>\n",
       "    <tr>\n",
       "      <th>011121</th>\n",
       "      <td>2337</td>\n",
       "      <td>6282235</td>\n",
       "      <td>0.000372</td>\n",
       "    </tr>\n",
       "    <tr>\n",
       "      <th>011129</th>\n",
       "      <td>850</td>\n",
       "      <td>6282235</td>\n",
       "      <td>0.000135</td>\n",
       "    </tr>\n",
       "  </tbody>\n",
       "</table>\n",
       "</div>"
      ],
      "text/plain": [
       "        empleo  empleo_total  porc_act\n",
       "clae6                                 \n",
       "011111    2814       6282235  0.000448\n",
       "011112    4429       6282235  0.000705\n",
       "011119   21212       6282235  0.003377\n",
       "011121    2337       6282235  0.000372\n",
       "011129     850       6282235  0.000135"
      ]
     },
     "execution_count": 260,
     "metadata": {},
     "output_type": "execute_result"
    }
   ],
   "source": [
    "# Calculamos el ratio que representan el empleo de una actividad sobre el total de empleo\n",
    "\n",
    "df_agrup_a[f'{variable}_total'] = df_agrup_pa\n",
    "df_agrup_a['porc_act'] = df_agrup_a[variable]/df_agrup_a[f'{variable}_total']\n",
    "df_agrup_a.head()"
   ]
  },
  {
   "cell_type": "code",
   "execution_count": 261,
   "id": "ca7aa14a",
   "metadata": {},
   "outputs": [
    {
     "data": {
      "text/html": [
       "<div>\n",
       "<style scoped>\n",
       "    .dataframe tbody tr th:only-of-type {\n",
       "        vertical-align: middle;\n",
       "    }\n",
       "\n",
       "    .dataframe tbody tr th {\n",
       "        vertical-align: top;\n",
       "    }\n",
       "\n",
       "    .dataframe thead th {\n",
       "        text-align: right;\n",
       "    }\n",
       "</style>\n",
       "<table border=\"1\" class=\"dataframe\">\n",
       "  <thead>\n",
       "    <tr style=\"text-align: right;\">\n",
       "      <th></th>\n",
       "      <th>provincia</th>\n",
       "      <th>provincia_id</th>\n",
       "      <th>clae6</th>\n",
       "      <th>empleo</th>\n",
       "      <th>porc_prov</th>\n",
       "      <th>porc_act</th>\n",
       "      <th>RCA</th>\n",
       "      <th>M</th>\n",
       "    </tr>\n",
       "  </thead>\n",
       "  <tbody>\n",
       "    <tr>\n",
       "      <th>0</th>\n",
       "      <td>Buenos Aires</td>\n",
       "      <td>6</td>\n",
       "      <td>011111</td>\n",
       "      <td>137</td>\n",
       "      <td>0.000039</td>\n",
       "      <td>0.000448</td>\n",
       "      <td>0.086494</td>\n",
       "      <td>0</td>\n",
       "    </tr>\n",
       "    <tr>\n",
       "      <th>1</th>\n",
       "      <td>Buenos Aires</td>\n",
       "      <td>6</td>\n",
       "      <td>011112</td>\n",
       "      <td>2848</td>\n",
       "      <td>0.000805</td>\n",
       "      <td>0.000705</td>\n",
       "      <td>1.142414</td>\n",
       "      <td>1</td>\n",
       "    </tr>\n",
       "    <tr>\n",
       "      <th>2</th>\n",
       "      <td>Buenos Aires</td>\n",
       "      <td>6</td>\n",
       "      <td>011119</td>\n",
       "      <td>11784</td>\n",
       "      <td>0.003332</td>\n",
       "      <td>0.003377</td>\n",
       "      <td>0.986962</td>\n",
       "      <td>0</td>\n",
       "    </tr>\n",
       "    <tr>\n",
       "      <th>3</th>\n",
       "      <td>Buenos Aires</td>\n",
       "      <td>6</td>\n",
       "      <td>011121</td>\n",
       "      <td>725</td>\n",
       "      <td>0.000205</td>\n",
       "      <td>0.000372</td>\n",
       "      <td>0.551148</td>\n",
       "      <td>0</td>\n",
       "    </tr>\n",
       "    <tr>\n",
       "      <th>4</th>\n",
       "      <td>Buenos Aires</td>\n",
       "      <td>6</td>\n",
       "      <td>011129</td>\n",
       "      <td>446</td>\n",
       "      <td>0.000126</td>\n",
       "      <td>0.000135</td>\n",
       "      <td>0.932192</td>\n",
       "      <td>0</td>\n",
       "    </tr>\n",
       "  </tbody>\n",
       "</table>\n",
       "</div>"
      ],
      "text/plain": [
       "      provincia  provincia_id   clae6  empleo  porc_prov  porc_act       RCA  \\\n",
       "0  Buenos Aires             6  011111     137   0.000039  0.000448  0.086494   \n",
       "1  Buenos Aires             6  011112    2848   0.000805  0.000705  1.142414   \n",
       "2  Buenos Aires             6  011119   11784   0.003332  0.003377  0.986962   \n",
       "3  Buenos Aires             6  011121     725   0.000205  0.000372  0.551148   \n",
       "4  Buenos Aires             6  011129     446   0.000126  0.000135  0.932192   \n",
       "\n",
       "   M  \n",
       "0  0  \n",
       "1  1  \n",
       "2  0  \n",
       "3  0  \n",
       "4  0  "
      ]
     },
     "execution_count": 261,
     "metadata": {},
     "output_type": "execute_result"
    }
   ],
   "source": [
    "# Unimos ambas tablas para tener ambos ratios y calculamos la RCA y M.\n",
    "\n",
    "df_RCA = df_prov.merge(df_agrup_a, how='left', on='clae6')\n",
    "\n",
    "df_RCA['RCA'] = df_RCA['porc_prov'] / df_RCA['porc_act']\n",
    "df_RCA['M'] = np.where(df_RCA['RCA'] >= 1, 1, 0)\n",
    "\n",
    "df_RCA.drop(columns=[variable, f'{variable}_total', f'{variable}_y'],inplace=True)\n",
    "df_RCA.rename(columns={f'{variable}_x': variable}, inplace=True)\n",
    "    \n",
    "df_RCA.head()"
   ]
  },
  {
   "cell_type": "code",
   "execution_count": 262,
   "id": "96b7a80b",
   "metadata": {},
   "outputs": [
    {
     "data": {
      "text/html": [
       "<div>\n",
       "<style scoped>\n",
       "    .dataframe tbody tr th:only-of-type {\n",
       "        vertical-align: middle;\n",
       "    }\n",
       "\n",
       "    .dataframe tbody tr th {\n",
       "        vertical-align: top;\n",
       "    }\n",
       "\n",
       "    .dataframe thead th {\n",
       "        text-align: right;\n",
       "    }\n",
       "</style>\n",
       "<table border=\"1\" class=\"dataframe\">\n",
       "  <thead>\n",
       "    <tr style=\"text-align: right;\">\n",
       "      <th></th>\n",
       "      <th>M</th>\n",
       "    </tr>\n",
       "    <tr>\n",
       "      <th>provincia</th>\n",
       "      <th></th>\n",
       "    </tr>\n",
       "  </thead>\n",
       "  <tbody>\n",
       "    <tr>\n",
       "      <th>Buenos Aires</th>\n",
       "      <td>507</td>\n",
       "    </tr>\n",
       "    <tr>\n",
       "      <th>Santa Fe</th>\n",
       "      <td>333</td>\n",
       "    </tr>\n",
       "    <tr>\n",
       "      <th>Cordoba</th>\n",
       "      <td>302</td>\n",
       "    </tr>\n",
       "    <tr>\n",
       "      <th>Mendoza</th>\n",
       "      <td>264</td>\n",
       "    </tr>\n",
       "    <tr>\n",
       "      <th>Entre Rios</th>\n",
       "      <td>245</td>\n",
       "    </tr>\n",
       "    <tr>\n",
       "      <th>Rio Negro</th>\n",
       "      <td>231</td>\n",
       "    </tr>\n",
       "    <tr>\n",
       "      <th>Chubut</th>\n",
       "      <td>228</td>\n",
       "    </tr>\n",
       "    <tr>\n",
       "      <th>Santiago Del Estero</th>\n",
       "      <td>228</td>\n",
       "    </tr>\n",
       "    <tr>\n",
       "      <th>San Juan</th>\n",
       "      <td>228</td>\n",
       "    </tr>\n",
       "    <tr>\n",
       "      <th>La Pampa</th>\n",
       "      <td>228</td>\n",
       "    </tr>\n",
       "    <tr>\n",
       "      <th>Salta</th>\n",
       "      <td>228</td>\n",
       "    </tr>\n",
       "    <tr>\n",
       "      <th>Neuquen</th>\n",
       "      <td>227</td>\n",
       "    </tr>\n",
       "    <tr>\n",
       "      <th>Catamarca</th>\n",
       "      <td>220</td>\n",
       "    </tr>\n",
       "    <tr>\n",
       "      <th>Corrientes</th>\n",
       "      <td>218</td>\n",
       "    </tr>\n",
       "    <tr>\n",
       "      <th>Chaco</th>\n",
       "      <td>212</td>\n",
       "    </tr>\n",
       "    <tr>\n",
       "      <th>San Luis</th>\n",
       "      <td>199</td>\n",
       "    </tr>\n",
       "    <tr>\n",
       "      <th>Misiones</th>\n",
       "      <td>186</td>\n",
       "    </tr>\n",
       "    <tr>\n",
       "      <th>Tucuman</th>\n",
       "      <td>186</td>\n",
       "    </tr>\n",
       "    <tr>\n",
       "      <th>Formosa</th>\n",
       "      <td>185</td>\n",
       "    </tr>\n",
       "    <tr>\n",
       "      <th>Tierra Del Fuego</th>\n",
       "      <td>169</td>\n",
       "    </tr>\n",
       "    <tr>\n",
       "      <th>Jujuy</th>\n",
       "      <td>168</td>\n",
       "    </tr>\n",
       "    <tr>\n",
       "      <th>La Rioja</th>\n",
       "      <td>162</td>\n",
       "    </tr>\n",
       "    <tr>\n",
       "      <th>Santa Cruz</th>\n",
       "      <td>154</td>\n",
       "    </tr>\n",
       "  </tbody>\n",
       "</table>\n",
       "</div>"
      ],
      "text/plain": [
       "                       M\n",
       "provincia               \n",
       "Buenos Aires         507\n",
       "Santa Fe             333\n",
       "Cordoba              302\n",
       "Mendoza              264\n",
       "Entre Rios           245\n",
       "Rio Negro            231\n",
       "Chubut               228\n",
       "Santiago Del Estero  228\n",
       "San Juan             228\n",
       "La Pampa             228\n",
       "Salta                228\n",
       "Neuquen              227\n",
       "Catamarca            220\n",
       "Corrientes           218\n",
       "Chaco                212\n",
       "San Luis             199\n",
       "Misiones             186\n",
       "Tucuman              186\n",
       "Formosa              185\n",
       "Tierra Del Fuego     169\n",
       "Jujuy                168\n",
       "La Rioja             162\n",
       "Santa Cruz           154"
      ]
     },
     "execution_count": 262,
     "metadata": {},
     "output_type": "execute_result"
    }
   ],
   "source": [
    "# Exploramos la cantidad de actividades con RCA por provincia\n",
    "df_RCA.groupby('provincia')[['M']].sum().sort_values(by='M', ascending=False)"
   ]
  },
  {
   "cell_type": "code",
   "execution_count": 263,
   "id": "b3776982",
   "metadata": {},
   "outputs": [
    {
     "data": {
      "text/html": [
       "<div>\n",
       "<style scoped>\n",
       "    .dataframe tbody tr th:only-of-type {\n",
       "        vertical-align: middle;\n",
       "    }\n",
       "\n",
       "    .dataframe tbody tr th {\n",
       "        vertical-align: top;\n",
       "    }\n",
       "\n",
       "    .dataframe thead th {\n",
       "        text-align: right;\n",
       "    }\n",
       "</style>\n",
       "<table border=\"1\" class=\"dataframe\">\n",
       "  <thead>\n",
       "    <tr style=\"text-align: right;\">\n",
       "      <th></th>\n",
       "      <th>provincia</th>\n",
       "      <th>provincia_id</th>\n",
       "      <th>clae6</th>\n",
       "      <th>empleo</th>\n",
       "      <th>porc_prov</th>\n",
       "      <th>porc_act</th>\n",
       "      <th>RCA</th>\n",
       "      <th>M</th>\n",
       "      <th>loc_int</th>\n",
       "      <th>prod_int</th>\n",
       "    </tr>\n",
       "  </thead>\n",
       "  <tbody>\n",
       "    <tr>\n",
       "      <th>0</th>\n",
       "      <td>Buenos Aires</td>\n",
       "      <td>6</td>\n",
       "      <td>011111</td>\n",
       "      <td>137</td>\n",
       "      <td>0.000039</td>\n",
       "      <td>0.000448</td>\n",
       "      <td>0.086494</td>\n",
       "      <td>0</td>\n",
       "      <td>0</td>\n",
       "      <td>0</td>\n",
       "    </tr>\n",
       "    <tr>\n",
       "      <th>1</th>\n",
       "      <td>Buenos Aires</td>\n",
       "      <td>6</td>\n",
       "      <td>011112</td>\n",
       "      <td>2848</td>\n",
       "      <td>0.000805</td>\n",
       "      <td>0.000705</td>\n",
       "      <td>1.142414</td>\n",
       "      <td>1</td>\n",
       "      <td>0</td>\n",
       "      <td>1</td>\n",
       "    </tr>\n",
       "    <tr>\n",
       "      <th>2</th>\n",
       "      <td>Buenos Aires</td>\n",
       "      <td>6</td>\n",
       "      <td>011119</td>\n",
       "      <td>11784</td>\n",
       "      <td>0.003332</td>\n",
       "      <td>0.003377</td>\n",
       "      <td>0.986962</td>\n",
       "      <td>0</td>\n",
       "      <td>0</td>\n",
       "      <td>2</td>\n",
       "    </tr>\n",
       "    <tr>\n",
       "      <th>3</th>\n",
       "      <td>Buenos Aires</td>\n",
       "      <td>6</td>\n",
       "      <td>011121</td>\n",
       "      <td>725</td>\n",
       "      <td>0.000205</td>\n",
       "      <td>0.000372</td>\n",
       "      <td>0.551148</td>\n",
       "      <td>0</td>\n",
       "      <td>0</td>\n",
       "      <td>3</td>\n",
       "    </tr>\n",
       "    <tr>\n",
       "      <th>4</th>\n",
       "      <td>Buenos Aires</td>\n",
       "      <td>6</td>\n",
       "      <td>011129</td>\n",
       "      <td>446</td>\n",
       "      <td>0.000126</td>\n",
       "      <td>0.000135</td>\n",
       "      <td>0.932192</td>\n",
       "      <td>0</td>\n",
       "      <td>0</td>\n",
       "      <td>4</td>\n",
       "    </tr>\n",
       "  </tbody>\n",
       "</table>\n",
       "</div>"
      ],
      "text/plain": [
       "      provincia  provincia_id   clae6  empleo  porc_prov  porc_act       RCA  \\\n",
       "0  Buenos Aires             6  011111     137   0.000039  0.000448  0.086494   \n",
       "1  Buenos Aires             6  011112    2848   0.000805  0.000705  1.142414   \n",
       "2  Buenos Aires             6  011119   11784   0.003332  0.003377  0.986962   \n",
       "3  Buenos Aires             6  011121     725   0.000205  0.000372  0.551148   \n",
       "4  Buenos Aires             6  011129     446   0.000126  0.000135  0.932192   \n",
       "\n",
       "   M  loc_int  prod_int  \n",
       "0  0        0         0  \n",
       "1  1        0         1  \n",
       "2  0        0         2  \n",
       "3  0        0         3  \n",
       "4  0        0         4  "
      ]
     },
     "execution_count": 263,
     "metadata": {},
     "output_type": "execute_result"
    }
   ],
   "source": [
    "# Transformamos las columnas en índices fijos para provincias y actividades para poder transportar la matriz a numpy:\n",
    "provincias_id = df_RCA.provincia_id.unique()\n",
    "provincias = df_RCA.provincia.unique()\n",
    "actividades = df_RCA.clae6.unique()\n",
    "\n",
    "df_RCA['loc_int'] = df_RCA.provincia_id.apply(lambda x: np.where(provincias_id == x)[0][0])\n",
    "df_RCA['prod_int'] = df_RCA.clae6.apply(lambda x: np.where(actividades == x)[0][0])\n",
    "df_RCA.head()"
   ]
  },
  {
   "cell_type": "markdown",
   "id": "0318f264",
   "metadata": {},
   "source": [
    "## Calcula matriz M\n",
    "A partir del cálculo de los LQ o RCA se obtiene la matriz M:\n",
    "$$\n",
    "M_{pa} =\n",
    "\\begin{cases} \n",
    "1 & \\text{si } LQ_{pa} \\geq 1 \\\\\n",
    "0 & \\text{si } LQ_{pa} < 1\n",
    "\\end{cases}\n",
    "$$"
   ]
  },
  {
   "cell_type": "code",
   "execution_count": 264,
   "id": "334caeba",
   "metadata": {},
   "outputs": [],
   "source": [
    "# Creamos una matriz de ceros para guardar la matriz M y relleno\n",
    "Mpa = np.zeros((df_RCA.provincia_id.nunique(), df_RCA.clae6.nunique()),\n",
    "               dtype=np.int64)\n",
    "\n",
    "for row in df_RCA.loc[df_RCA.M == 1].iterrows():\n",
    "    Mpa[row[1].loc_int, row[1].prod_int] = 1"
   ]
  },
  {
   "cell_type": "code",
   "execution_count": 265,
   "id": "01b6b9a2",
   "metadata": {},
   "outputs": [
    {
     "name": "stdout",
     "output_type": "stream",
     "text": [
      "Cuantos elementos tienen RCA > 1 segun df_RCA: 5308\n",
      "Cuantos elementos tienen RCA > 1 segun Mpa:    5308\n"
     ]
    }
   ],
   "source": [
    "print('Cuantos elementos tienen RCA > 1 segun df_RCA:', len(df_RCA.loc[df_RCA.M == 1]))\n",
    "print('Cuantos elementos tienen RCA > 1 segun Mpa:   ', Mpa.sum())"
   ]
  },
  {
   "cell_type": "markdown",
   "id": "16a9c438",
   "metadata": {},
   "source": [
    "### Calcula Diversidad\n",
    "La diversidad de una provincia se calcula como el número de industrias en la que la misma es competitiva.\n",
    "\n",
    "$$\n",
    "Diversidad = k_{p,0} = \\sum_{a} M_{pa}\n",
    "$$"
   ]
  },
  {
   "cell_type": "code",
   "execution_count": 266,
   "id": "a8ecf7e8",
   "metadata": {},
   "outputs": [
    {
     "data": {
      "text/plain": [
       "(23,)"
      ]
     },
     "execution_count": 266,
     "metadata": {},
     "output_type": "execute_result"
    }
   ],
   "source": [
    "diversity = Mpa.sum(axis = 1)\n",
    "diversity.shape"
   ]
  },
  {
   "cell_type": "markdown",
   "id": "5d0678d8",
   "metadata": {},
   "source": [
    "### Calcula Ubicuidad\n",
    "La ubicuidad de una industria se calcula como el número de provincias en que una la misma se encuentra concentrada\n",
    "$$\n",
    "Ubicuidad = k_{a,0} = \\sum_{p} M_{pa}\n",
    "$$"
   ]
  },
  {
   "cell_type": "code",
   "execution_count": 267,
   "id": "223ee40f",
   "metadata": {},
   "outputs": [
    {
     "data": {
      "text/plain": [
       "(943,)"
      ]
     },
     "execution_count": 267,
     "metadata": {},
     "output_type": "execute_result"
    }
   ],
   "source": [
    "ubiquity = Mpa.sum(axis = 0)\n",
    "ubiquity.shape"
   ]
  },
  {
   "cell_type": "markdown",
   "id": "77b84273",
   "metadata": {},
   "source": [
    "### Calcula las inversas"
   ]
  },
  {
   "cell_type": "code",
   "execution_count": 268,
   "id": "b3cf25bf",
   "metadata": {},
   "outputs": [
    {
     "data": {
      "text/plain": [
       "(23, 23)"
      ]
     },
     "execution_count": 268,
     "metadata": {},
     "output_type": "execute_result"
    }
   ],
   "source": [
    "D_inv = np.diag(1/diversity)\n",
    "D_inv.shape\n"
   ]
  },
  {
   "cell_type": "code",
   "execution_count": 269,
   "id": "be1d27fd",
   "metadata": {},
   "outputs": [
    {
     "data": {
      "text/plain": [
       "(943, 943)"
      ]
     },
     "execution_count": 269,
     "metadata": {},
     "output_type": "execute_result"
    }
   ],
   "source": [
    "U_inv = np.diag(1/ubiquity)\n",
    "U_inv.shape"
   ]
  },
  {
   "cell_type": "markdown",
   "id": "bcf36052",
   "metadata": {},
   "source": [
    "## Calcula matriz $\\tilde{M}$\n",
    "Para calcular la complejidad de las provincias, el Índice de Complejidad Económica (ICE) tenemos en primer lugar que calcular la matriz $\\tilde{M}$ utilizando las inversas de la ubicuidad y de la diversidad y la propia matriz M y M transpuesta.\n",
    "\n",
    "$$ \n",
    "\\tilde{M} = D^{-1} M U^{-1} M'  \\\\\n",
    "\n",
    "\\tilde{M} = D^{-1} S\n",
    "$$"
   ]
  },
  {
   "cell_type": "code",
   "execution_count": 270,
   "id": "d9d1af1b",
   "metadata": {},
   "outputs": [],
   "source": [
    "temp_Mpa_1 = Mpa.copy().astype(float)\n",
    "for i in range(len(actividades)):\n",
    "    temp_Mpa_1[:, i] = temp_Mpa_1[:, i]/ubiquity[i]"
   ]
  },
  {
   "cell_type": "code",
   "execution_count": 271,
   "id": "19d1ec3e",
   "metadata": {},
   "outputs": [
    {
     "data": {
      "text/plain": [
       "(23, 23)"
      ]
     },
     "execution_count": 271,
     "metadata": {},
     "output_type": "execute_result"
    }
   ],
   "source": [
    "temp_Mpa_1.dtype, temp_Mpa_1.shape\n",
    "Sccprima = np.matmul(temp_Mpa_1, Mpa.transpose())\n",
    "Sccprima.shape"
   ]
  },
  {
   "cell_type": "code",
   "execution_count": 272,
   "id": "3fc79f78",
   "metadata": {},
   "outputs": [
    {
     "data": {
      "text/plain": [
       "(23, 23)"
      ]
     },
     "execution_count": 272,
     "metadata": {},
     "output_type": "execute_result"
    }
   ],
   "source": [
    "Mmonio_c = np.matmul(D_inv, Sccprima)\n",
    "Mmonio_c.shape"
   ]
  },
  {
   "cell_type": "markdown",
   "id": "b2d8dff3",
   "metadata": {},
   "source": [
    "## Calcula los autovalores, autovectores, ECI"
   ]
  },
  {
   "cell_type": "code",
   "execution_count": 273,
   "id": "c9114f82",
   "metadata": {},
   "outputs": [],
   "source": [
    "def calc_complexity(mmonio):\n",
    "    autovalores, autovectores = np.linalg.eig(mmonio)\n",
    "    second_idx = np.where(autovalores == -np.sort(-autovalores)[1])[0][0]\n",
    "    \n",
    "    # el segundo autovector es la varianza de complejidades: el ECI\n",
    "    complexity = autovectores[:, second_idx].real\n",
    "    print('Todos los avec imaginarios son cero:', (np.isclose(autovectores[:, second_idx].imag, 0.0)).all())\n",
    "    print('Mean and std of second autovector:', complexity.mean(), '+/-', complexity.std())\n",
    "    return complexity"
   ]
  },
  {
   "cell_type": "code",
   "execution_count": 274,
   "id": "765d0b13",
   "metadata": {},
   "outputs": [
    {
     "name": "stdout",
     "output_type": "stream",
     "text": [
      "Todos los avec imaginarios son cero: True\n",
      "Mean and std of second autovector: 0.05530617717941411 +/- 0.20104598388270395\n",
      "Mean and std of eci: -2.896233977283017e-17 +/- 1.0000000000000002\n"
     ]
    }
   ],
   "source": [
    "eci_raw = calc_complexity(Mmonio_c)\n",
    "eci_norm = (eci_raw - eci_raw.mean())/eci_raw.std()\n",
    "eci_norm = -eci_norm\n",
    "print('Mean and std of eci:', eci_norm.mean(), '+/-', eci_norm.std())"
   ]
  },
  {
   "cell_type": "code",
   "execution_count": 275,
   "id": "4a6d06ad",
   "metadata": {},
   "outputs": [
    {
     "data": {
      "text/html": [
       "<div>\n",
       "<style scoped>\n",
       "    .dataframe tbody tr th:only-of-type {\n",
       "        vertical-align: middle;\n",
       "    }\n",
       "\n",
       "    .dataframe tbody tr th {\n",
       "        vertical-align: top;\n",
       "    }\n",
       "\n",
       "    .dataframe thead th {\n",
       "        text-align: right;\n",
       "    }\n",
       "</style>\n",
       "<table border=\"1\" class=\"dataframe\">\n",
       "  <thead>\n",
       "    <tr style=\"text-align: right;\">\n",
       "      <th></th>\n",
       "      <th>provincia</th>\n",
       "      <th>ECI</th>\n",
       "      <th>M</th>\n",
       "    </tr>\n",
       "  </thead>\n",
       "  <tbody>\n",
       "    <tr>\n",
       "      <th>0</th>\n",
       "      <td>Buenos Aires</td>\n",
       "      <td>4.231254</td>\n",
       "      <td>507</td>\n",
       "    </tr>\n",
       "    <tr>\n",
       "      <th>1</th>\n",
       "      <td>Santa Fe</td>\n",
       "      <td>1.236544</td>\n",
       "      <td>333</td>\n",
       "    </tr>\n",
       "    <tr>\n",
       "      <th>2</th>\n",
       "      <td>Cordoba</td>\n",
       "      <td>0.499901</td>\n",
       "      <td>302</td>\n",
       "    </tr>\n",
       "    <tr>\n",
       "      <th>3</th>\n",
       "      <td>Tierra Del Fuego</td>\n",
       "      <td>0.474662</td>\n",
       "      <td>169</td>\n",
       "    </tr>\n",
       "    <tr>\n",
       "      <th>4</th>\n",
       "      <td>San Luis</td>\n",
       "      <td>0.259899</td>\n",
       "      <td>199</td>\n",
       "    </tr>\n",
       "    <tr>\n",
       "      <th>5</th>\n",
       "      <td>Mendoza</td>\n",
       "      <td>-0.084972</td>\n",
       "      <td>264</td>\n",
       "    </tr>\n",
       "    <tr>\n",
       "      <th>6</th>\n",
       "      <td>San Juan</td>\n",
       "      <td>-0.228591</td>\n",
       "      <td>228</td>\n",
       "    </tr>\n",
       "    <tr>\n",
       "      <th>7</th>\n",
       "      <td>Tucuman</td>\n",
       "      <td>-0.233229</td>\n",
       "      <td>186</td>\n",
       "    </tr>\n",
       "    <tr>\n",
       "      <th>8</th>\n",
       "      <td>Misiones</td>\n",
       "      <td>-0.234125</td>\n",
       "      <td>186</td>\n",
       "    </tr>\n",
       "    <tr>\n",
       "      <th>9</th>\n",
       "      <td>Chaco</td>\n",
       "      <td>-0.254351</td>\n",
       "      <td>212</td>\n",
       "    </tr>\n",
       "    <tr>\n",
       "      <th>10</th>\n",
       "      <td>Santiago Del Estero</td>\n",
       "      <td>-0.260567</td>\n",
       "      <td>228</td>\n",
       "    </tr>\n",
       "    <tr>\n",
       "      <th>11</th>\n",
       "      <td>Formosa</td>\n",
       "      <td>-0.309133</td>\n",
       "      <td>185</td>\n",
       "    </tr>\n",
       "    <tr>\n",
       "      <th>12</th>\n",
       "      <td>La Pampa</td>\n",
       "      <td>-0.315222</td>\n",
       "      <td>228</td>\n",
       "    </tr>\n",
       "    <tr>\n",
       "      <th>13</th>\n",
       "      <td>Catamarca</td>\n",
       "      <td>-0.334498</td>\n",
       "      <td>220</td>\n",
       "    </tr>\n",
       "    <tr>\n",
       "      <th>14</th>\n",
       "      <td>Neuquen</td>\n",
       "      <td>-0.350875</td>\n",
       "      <td>227</td>\n",
       "    </tr>\n",
       "    <tr>\n",
       "      <th>15</th>\n",
       "      <td>Entre Rios</td>\n",
       "      <td>-0.374894</td>\n",
       "      <td>245</td>\n",
       "    </tr>\n",
       "    <tr>\n",
       "      <th>16</th>\n",
       "      <td>Corrientes</td>\n",
       "      <td>-0.386441</td>\n",
       "      <td>218</td>\n",
       "    </tr>\n",
       "    <tr>\n",
       "      <th>17</th>\n",
       "      <td>Chubut</td>\n",
       "      <td>-0.412584</td>\n",
       "      <td>228</td>\n",
       "    </tr>\n",
       "    <tr>\n",
       "      <th>18</th>\n",
       "      <td>La Rioja</td>\n",
       "      <td>-0.434588</td>\n",
       "      <td>162</td>\n",
       "    </tr>\n",
       "    <tr>\n",
       "      <th>19</th>\n",
       "      <td>Rio Negro</td>\n",
       "      <td>-0.446064</td>\n",
       "      <td>231</td>\n",
       "    </tr>\n",
       "    <tr>\n",
       "      <th>20</th>\n",
       "      <td>Jujuy</td>\n",
       "      <td>-0.488470</td>\n",
       "      <td>168</td>\n",
       "    </tr>\n",
       "    <tr>\n",
       "      <th>21</th>\n",
       "      <td>Santa Cruz</td>\n",
       "      <td>-0.774034</td>\n",
       "      <td>154</td>\n",
       "    </tr>\n",
       "    <tr>\n",
       "      <th>22</th>\n",
       "      <td>Salta</td>\n",
       "      <td>-0.779622</td>\n",
       "      <td>228</td>\n",
       "    </tr>\n",
       "  </tbody>\n",
       "</table>\n",
       "</div>"
      ],
      "text/plain": [
       "              provincia       ECI    M\n",
       "0          Buenos Aires  4.231254  507\n",
       "1              Santa Fe  1.236544  333\n",
       "2               Cordoba  0.499901  302\n",
       "3      Tierra Del Fuego  0.474662  169\n",
       "4              San Luis  0.259899  199\n",
       "5               Mendoza -0.084972  264\n",
       "6              San Juan -0.228591  228\n",
       "7               Tucuman -0.233229  186\n",
       "8              Misiones -0.234125  186\n",
       "9                 Chaco -0.254351  212\n",
       "10  Santiago Del Estero -0.260567  228\n",
       "11              Formosa -0.309133  185\n",
       "12             La Pampa -0.315222  228\n",
       "13            Catamarca -0.334498  220\n",
       "14              Neuquen -0.350875  227\n",
       "15           Entre Rios -0.374894  245\n",
       "16           Corrientes -0.386441  218\n",
       "17               Chubut -0.412584  228\n",
       "18             La Rioja -0.434588  162\n",
       "19            Rio Negro -0.446064  231\n",
       "20                Jujuy -0.488470  168\n",
       "21           Santa Cruz -0.774034  154\n",
       "22                Salta -0.779622  228"
      ]
     },
     "execution_count": 275,
     "metadata": {},
     "output_type": "execute_result"
    }
   ],
   "source": [
    "# Exploramos cuál es el ECI de cada provincia\n",
    "\n",
    "df_eci = pd.DataFrame({'provincia': provincias, 'ECI': eci_norm})\n",
    "df_eci.sort_values('ECI', ascending=False, inplace=True)\n",
    "df_eci.merge(df_RCA.groupby('provincia')[['M']].sum().sort_values(by='M', ascending=False).reset_index(),how='left')"
   ]
  },
  {
   "cell_type": "markdown",
   "id": "d5faf0df",
   "metadata": {},
   "source": [
    "## Calcula matriz $\\hat{M}$\n",
    "Para calcular la complejidad de las actividades, el Índice de Complejidad de las Actividades (ICA) tenemos en primer lugar que calcular la matriz $\\hat{M}$ utilizando las inversas de la ubicuidad y de la diversidad y la propia matriz M y M transpuesta.\n",
    "\n",
    "$$ \n",
    "\\hat{M} = U^{-1} M' D^{-1} M\n",
    "$$"
   ]
  },
  {
   "cell_type": "code",
   "execution_count": 276,
   "id": "4ab78b25",
   "metadata": {},
   "outputs": [],
   "source": [
    "temp_Mpa_2 = Mpa.copy().astype(float)\n",
    "for i in range(len(provincias)):\n",
    "    temp_Mpa_2[i, :] = temp_Mpa_2[i, :]/diversity[i]"
   ]
  },
  {
   "cell_type": "code",
   "execution_count": 277,
   "id": "0861385f",
   "metadata": {},
   "outputs": [
    {
     "data": {
      "text/plain": [
       "((943, 943), dtype('float64'))"
      ]
     },
     "execution_count": 277,
     "metadata": {},
     "output_type": "execute_result"
    }
   ],
   "source": [
    "Sppprima = np.matmul(Mpa.transpose(), temp_Mpa_2)\n",
    "Sppprima.shape, Sppprima.dtype"
   ]
  },
  {
   "cell_type": "code",
   "execution_count": 278,
   "id": "873c7541",
   "metadata": {},
   "outputs": [
    {
     "data": {
      "text/plain": [
       "((943, 943), dtype('float64'))"
      ]
     },
     "execution_count": 278,
     "metadata": {},
     "output_type": "execute_result"
    }
   ],
   "source": [
    "Mmonio_p = np.matmul(U_inv, Sppprima)\n",
    "Mmonio_p.shape, Mmonio_p.dtype"
   ]
  },
  {
   "cell_type": "code",
   "execution_count": 279,
   "id": "08d79c28",
   "metadata": {},
   "outputs": [
    {
     "name": "stdout",
     "output_type": "stream",
     "text": [
      "Todos los avec imaginarios son cero: True\n",
      "Mean and std of second autovector: -0.012551129432374308 +/- 0.030048536354277778\n",
      "Mean and std of ICA: -1.5069835328952285e-17 +/- 0.9999999999999999\n"
     ]
    }
   ],
   "source": [
    "ica_raw = calc_complexity(Mmonio_p)\n",
    "ica_norm = (ica_raw - ica_raw.mean())/ica_raw.std()\n",
    "print('Mean and std of ICA:', ica_norm.mean(), '+/-', ica_norm.std())"
   ]
  },
  {
   "cell_type": "code",
   "execution_count": 280,
   "id": "9632fb15",
   "metadata": {},
   "outputs": [],
   "source": [
    "# El autovector sale acá con el signo invertido así que lo cambiamos\n",
    "ica_norm = -ica_norm"
   ]
  },
  {
   "cell_type": "code",
   "execution_count": 281,
   "id": "4fe37828",
   "metadata": {},
   "outputs": [
    {
     "data": {
      "image/png": "[encoded data removed]",
      "text/plain": [
       "<Figure size 640x480 with 1 Axes>"
      ]
     },
     "metadata": {},
     "output_type": "display_data"
    }
   ],
   "source": [
    "# Exploramos la distribución del ICA. \n",
    "plt.hist(ica_norm, bins=30)\n",
    "plt.show()"
   ]
  },
  {
   "cell_type": "code",
   "execution_count": 282,
   "id": "a64a53cd",
   "metadata": {},
   "outputs": [],
   "source": [
    "# Preparamos ciertos arrays para exportar \n",
    "\n",
    "RCA = np.zeros((df_RCA.provincia_id.nunique(), df_RCA.clae6.nunique()),\n",
    "               dtype=np.float64)\n",
    "\n",
    "for row in df_RCA.loc[df_RCA.RCA != 0.0].iterrows():\n",
    "    RCA[row[1].loc_int, row[1].prod_int] = row[1].RCA\n",
    "\n",
    "empleo = np.zeros((df_RCA.provincia_id.nunique(), df_RCA.clae6.nunique()),\n",
    "               dtype=np.float64)\n",
    "\n",
    "# llena de RCA en los lugares correspondientes segun df_RCA\n",
    "for row in df_RCA.iterrows():\n",
    "    empleo[row[1].loc_int, row[1].prod_int] = row[1].empleo"
   ]
  },
  {
   "cell_type": "code",
   "execution_count": 283,
   "id": "2a2dd08d",
   "metadata": {},
   "outputs": [],
   "source": [
    "df_RCA.to_excel('dataframes/df_RCA.xlsx', index=False)"
   ]
  },
  {
   "cell_type": "code",
   "execution_count": 284,
   "id": "61cfaeda",
   "metadata": {},
   "outputs": [],
   "source": [
    "# Pasamos todo lo procesado hasta acá a pickles\n",
    "\n",
    "with open(f'serializables/Mpa.pkl','wb') as f:\n",
    "    pickle.dump(Mpa, f)\n",
    "\n",
    "with open(f'serializables/clae6.pkl','wb') as f:\n",
    "    pickle.dump(actividades, f)\n",
    "\n",
    "provincias = df_RCA.provincia.unique()\n",
    "with open(f'serializables/provincias.pkl','wb') as f:\n",
    "    pickle.dump(provincias, f)\n",
    "\n",
    "with open(f'serializables/RCA.pkl','wb') as f:\n",
    "    pickle.dump(RCA, f)\n",
    "\n",
    "with open(f'serializables/eci.pkl','wb') as f:\n",
    "    pickle.dump(eci_norm, f)\n",
    "\n",
    "with open(f'serializables/ica.pkl','wb') as f:\n",
    "    pickle.dump(ica_norm, f)\n",
    "\n",
    "with open(f'serializables/empleo.pkl','wb') as f:\n",
    "    pickle.dump(empleo, f)"
   ]
  },
  {
   "cell_type": "markdown",
   "id": "7fae23bb",
   "metadata": {},
   "source": [
    "## Calcula proximidades\n",
    "Siguiendo con el cálculo de indicadores, calculamos la proximidad de dos actividades *a* y *a'* como la probabilidad condicional de co-localizarse en una provincia *p*.\n",
    "$$\n",
    "\\phi_{a,a'} = \\min \\left( \\dfrac{\\sum_{p} M_{pa} M_{pa'}}{\\sum_{p} M_{pa}}, \\dfrac{\\sum_{p} M_{pa} M_{pa'}}{\\sum_{p} M_{pa'}} \\right).\n",
    "$$"
   ]
  },
  {
   "cell_type": "code",
   "execution_count": 285,
   "id": "9c9650d3",
   "metadata": {},
   "outputs": [],
   "source": [
    "p_RCAmay1 = np.zeros((len(actividades),))\n",
    "\n",
    "for prod in range(len(actividades)):\n",
    "    p_RCAmay1[prod] = Mpa[:, prod].sum()"
   ]
  },
  {
   "cell_type": "code",
   "execution_count": 286,
   "id": "51d7646a",
   "metadata": {},
   "outputs": [],
   "source": [
    "# Calculamos la proximidad: la probabilidad condicional mínima de que una icaa tenga el sector i RCA>1 dado tiene el sector j con RCA>1, y viceversa.\n",
    "# Miramos entonces primero la cantidad de icas en que ambos sectores tienen RCA, lo sumo y divido por la mayor ubicuidad de ambos sectores.\n",
    "\n",
    "almost_proximity = np.zeros((len(actividades), len(actividades)))\n",
    "\n",
    "for p1 in range(len(actividades)-1):\n",
    "    # como es una matriz simetrica, calcula unicamente la mitad de los valores:\n",
    "    for p2 in range(p1+1, len(actividades)):\n",
    "        almost_proximity[p1, p2] = np.logical_and(Mpa[:, p1], Mpa[:, p2]).sum()/max(p_RCAmay1[p1], p_RCAmay1[p2])"
   ]
  },
  {
   "cell_type": "code",
   "execution_count": 287,
   "id": "2efd3477",
   "metadata": {},
   "outputs": [],
   "source": [
    "# chequeo que no haya valores incorrectamente imputados\n",
    "for i in range(len(actividades)):\n",
    "    if not np.isclose(almost_proximity[i, :i].sum(), 0.0):\n",
    "        print('something wrong at row', i)"
   ]
  },
  {
   "cell_type": "code",
   "execution_count": 288,
   "id": "6dd1a194",
   "metadata": {},
   "outputs": [],
   "source": [
    "proximity = almost_proximity + almost_proximity.transpose() + np.diag(np.ones(len(actividades)))"
   ]
  },
  {
   "cell_type": "code",
   "execution_count": 289,
   "id": "342b74bf",
   "metadata": {},
   "outputs": [
    {
     "data": {
      "text/plain": [
       "(943, 943)"
      ]
     },
     "execution_count": 289,
     "metadata": {},
     "output_type": "execute_result"
    }
   ],
   "source": [
    "proximity.shape"
   ]
  },
  {
   "cell_type": "code",
   "execution_count": 290,
   "id": "6b18ca31",
   "metadata": {},
   "outputs": [],
   "source": [
    "with open(f'serializables/proximity.pkl','wb') as f:\n",
    "    pickle.dump(proximity, f)"
   ]
  },
  {
   "cell_type": "code",
   "execution_count": 291,
   "id": "63fa35f2",
   "metadata": {},
   "outputs": [],
   "source": [
    "pd.DataFrame(proximity, columns=actividades,index=actividades).to_csv(f'dataframes/proximity.csv')"
   ]
  },
  {
   "cell_type": "markdown",
   "id": "11fb2668",
   "metadata": {},
   "source": [
    "## Calcula la cercanía\n",
    "Utilizamos la cercanía (o densidad) para analizar qué tan relacionada está una nueva industria al set de capacidades con las que cuenta una provincia. Se calcula la proximidad promedio de una nueva industria *a'* al resto de las industrias donde la provincia está actualmente concentrada.\n",
    "$$\n",
    "d_{pa} = \\dfrac{\\sum_{a'} (1 - M_{pa'}) \\Phi_{a,a'}}{\\sum_{a'} \\Phi_{a,a'}}\n",
    "$$\n"
   ]
  },
  {
   "cell_type": "code",
   "execution_count": 292,
   "id": "17d045a0",
   "metadata": {},
   "outputs": [
    {
     "data": {
      "text/plain": [
       "(23, 943)"
      ]
     },
     "execution_count": 292,
     "metadata": {},
     "output_type": "execute_result"
    }
   ],
   "source": [
    "density_pa = np.matmul(Mpa, proximity)\n",
    "density_pa.shape"
   ]
  },
  {
   "cell_type": "code",
   "execution_count": 293,
   "id": "2c35c1f4",
   "metadata": {},
   "outputs": [],
   "source": [
    "density_pa = np.matmul(Mpa, proximity)\n",
    "\n",
    "for i in range(len(actividades)):\n",
    "    density_pa[:, i] = density_pa[:, i]/proximity[:, i].sum()    "
   ]
  },
  {
   "cell_type": "code",
   "execution_count": 294,
   "id": "19a2dcc9",
   "metadata": {},
   "outputs": [],
   "source": [
    "relative_density = np.zeros(density_pa.shape)\n",
    "relative_complexity = np.zeros(density_pa.shape)\n",
    "\n",
    "for p in range(density_pa.shape[0]):\n",
    "    mask = Mpa[p] - 1\n",
    "    # Acá me quedo con todos los productos donde no tengo VCR\n",
    "    den_option_set = density_pa[p][mask.astype(bool)] \n",
    "    com_option_set = ica_norm[mask.astype(bool)] \n",
    "    \n",
    "    relative_density[p] = (density_pa[p] - den_option_set.mean()) / den_option_set.std()\n",
    "    relative_complexity[p] = (ica_norm - com_option_set.mean()) / com_option_set.std()"
   ]
  },
  {
   "cell_type": "code",
   "execution_count": 295,
   "id": "4d261f25",
   "metadata": {},
   "outputs": [
    {
     "name": "stderr",
     "output_type": "stream",
     "text": [
      "C:\\Users\\Pluvini\\AppData\\Local\\Temp\\ipykernel_11780\\2633895838.py:2: DeprecationWarning: Conversion of an array with ndim > 0 to a scalar is deprecated, and will error in future. Ensure you extract a single element from your array before performing this operation. (Deprecated NumPy 1.25.)\n",
      "  plt.hist(relative_density[int(idx_prov[0])])\n"
     ]
    },
    {
     "data": {
      "image/png": "[encoded data removed]",
      "text/plain": [
       "<Figure size 640x480 with 1 Axes>"
      ]
     },
     "metadata": {},
     "output_type": "display_data"
    }
   ],
   "source": [
    "idx_prov = np.where(provincias == 'Cordoba')\n",
    "plt.hist(relative_density[int(idx_prov[0])])\n",
    "plt.show()"
   ]
  },
  {
   "cell_type": "code",
   "execution_count": 296,
   "id": "33118e02",
   "metadata": {},
   "outputs": [],
   "source": [
    "with open(f'serializables/density.pkl','wb') as f:\n",
    "    pickle.dump(density_pa, f)\n",
    "\n",
    "with open(f'serializables/relative_density.pkl','wb') as f:\n",
    "    pickle.dump(relative_density, f)"
   ]
  },
  {
   "cell_type": "markdown",
   "id": "0b4e905b",
   "metadata": {},
   "source": [
    "## Calcula Valor Estratégico (o COG)\n",
    "Este indicador mide cuánto se beneficia una provincia *p* al poder especializarse en una nueva actividad *a* en términos de las ganancias en capacidades productivas que se obtienen. Lo que hace es computar la complejidad de las actividades que no se fabrican en esa provincia y la distancia o la proximidad a las capacidades existentes de la nueva actividad *a'*.\n",
    "\n",
    "$$COG_{pa} = [\\sum_{a'} \\dfrac{\\phi_{a,a'}}{\\sum_{a''} \\phi_{a'',a'}}(1 - M_{pa'}) ICA_{a'}] - (1 - d_{pa})ICA_{a}$$"
   ]
  },
  {
   "cell_type": "code",
   "execution_count": 297,
   "id": "72f4deb1",
   "metadata": {},
   "outputs": [],
   "source": [
    "non_RCA_all = np.ones((len(provincias), len(actividades)), dtype=np.int64) - Mpa\n",
    "non_RCA_all = non_RCA_all.astype(float)\n",
    "\n",
    "distance_pa = np.matmul(non_RCA_all, proximity)\n",
    "\n",
    "for i in range(len(actividades)):\n",
    "    distance_pa[:, i] = distance_pa[:, i]/proximity[i, :].sum()\n",
    "\n",
    "inv_distance_pa = np.ones((len(provincias), len(actividades)), float) - distance_pa"
   ]
  },
  {
   "cell_type": "code",
   "execution_count": 298,
   "id": "71de24db",
   "metadata": {},
   "outputs": [],
   "source": [
    "ica_U01 = ica_norm - min(ica_norm)\n",
    "ica_U01 = ica_U01 / max(ica_U01)"
   ]
  },
  {
   "cell_type": "code",
   "execution_count": 299,
   "id": "770fa767",
   "metadata": {},
   "outputs": [
    {
     "name": "stdout",
     "output_type": "stream",
     "text": [
      ". . "
     ]
    }
   ],
   "source": [
    "unif_A = np.zeros((len(provincias), len(actividades)), float)\n",
    "unif_B = np.zeros((len(provincias), len(actividades)), float)\n",
    "sum_prox = proximity.sum(axis = 0)\n",
    "\n",
    "for l in range(len(provincias)):\n",
    "    if l % 13 == 0:\n",
    "        print('.', end=' ')\n",
    "        \n",
    "    for a in range(len(actividades)):\n",
    "        unif_A[l, a] = (proximity[a, :]*non_RCA_all[l, :]*ica_U01/sum_prox).sum()\n",
    "        unif_B[l, a] = inv_distance_pa[l, a]*ica_U01[a]\n",
    "\n",
    "unif_cog2_pa = unif_A - unif_B"
   ]
  },
  {
   "cell_type": "code",
   "execution_count": 300,
   "id": "475c5621",
   "metadata": {},
   "outputs": [],
   "source": [
    "relative_cog = np.zeros((len(provincias), len(actividades)), float)\n",
    "for idx_prov in range(len(provincias)):\n",
    "    relative_cog[idx_prov,] = unif_cog2_pa[idx_prov] - unif_cog2_pa[idx_prov][(1 - Mpa[idx_prov]).astype(bool)].mean()\n",
    "    relative_cog[idx_prov,] /= unif_cog2_pa[idx_prov][(1 - Mpa[idx_prov]).astype(bool)].std()"
   ]
  },
  {
   "cell_type": "code",
   "execution_count": 301,
   "id": "a2ad507c",
   "metadata": {},
   "outputs": [],
   "source": [
    "with open(f'serializables/cog.pkl','wb') as f:\n",
    "    pickle.dump(unif_cog2_pa, f)\n",
    "\n",
    "with open(f'serializables/relative_cog.pkl','wb') as f:\n",
    "    pickle.dump(relative_cog, f)"
   ]
  },
  {
   "cell_type": "markdown",
   "id": "012e9b36",
   "metadata": {},
   "source": [
    "## Calcula COI\n",
    "$$COI_p = \\sum_{a} (1 - d_{pa})(1 - M_{pa}) ICA_a$$"
   ]
  },
  {
   "cell_type": "code",
   "execution_count": 302,
   "id": "72c31f21",
   "metadata": {},
   "outputs": [],
   "source": [
    "non_RCA_all = np.ones((len(provincias), len(actividades)), dtype=np.int64) - Mpa\n",
    "non_RCA_all = non_RCA_all.astype(float)\n",
    "\n",
    "distance_all_pa = np.matmul(non_RCA_all, proximity)\n",
    "\n",
    "for i in range(len(actividades)):\n",
    "    distance_all_pa[:, i] = distance_all_pa[:, i]/proximity[i, :].sum()"
   ]
  },
  {
   "cell_type": "code",
   "execution_count": 303,
   "id": "0347bc92",
   "metadata": {},
   "outputs": [],
   "source": [
    "inv_distance_all_pa = np.ones((len(provincias), len(actividades)), float) - distance_all_pa"
   ]
  },
  {
   "cell_type": "code",
   "execution_count": 304,
   "id": "c8a8c62a",
   "metadata": {},
   "outputs": [
    {
     "data": {
      "text/html": [
       "<div>\n",
       "<style scoped>\n",
       "    .dataframe tbody tr th:only-of-type {\n",
       "        vertical-align: middle;\n",
       "    }\n",
       "\n",
       "    .dataframe tbody tr th {\n",
       "        vertical-align: top;\n",
       "    }\n",
       "\n",
       "    .dataframe thead th {\n",
       "        text-align: right;\n",
       "    }\n",
       "</style>\n",
       "<table border=\"1\" class=\"dataframe\">\n",
       "  <thead>\n",
       "    <tr style=\"text-align: right;\">\n",
       "      <th></th>\n",
       "      <th>provincia</th>\n",
       "      <th>COI</th>\n",
       "    </tr>\n",
       "  </thead>\n",
       "  <tbody>\n",
       "    <tr>\n",
       "      <th>0</th>\n",
       "      <td>Buenos Aires</td>\n",
       "      <td>-2.235414</td>\n",
       "    </tr>\n",
       "    <tr>\n",
       "      <th>1</th>\n",
       "      <td>Catamarca</td>\n",
       "      <td>0.151752</td>\n",
       "    </tr>\n",
       "    <tr>\n",
       "      <th>2</th>\n",
       "      <td>Cordoba</td>\n",
       "      <td>1.935683</td>\n",
       "    </tr>\n",
       "    <tr>\n",
       "      <th>3</th>\n",
       "      <td>Corrientes</td>\n",
       "      <td>0.069207</td>\n",
       "    </tr>\n",
       "    <tr>\n",
       "      <th>4</th>\n",
       "      <td>Chaco</td>\n",
       "      <td>0.043819</td>\n",
       "    </tr>\n",
       "    <tr>\n",
       "      <th>5</th>\n",
       "      <td>Chubut</td>\n",
       "      <td>0.174324</td>\n",
       "    </tr>\n",
       "    <tr>\n",
       "      <th>6</th>\n",
       "      <td>Entre Rios</td>\n",
       "      <td>0.465942</td>\n",
       "    </tr>\n",
       "    <tr>\n",
       "      <th>7</th>\n",
       "      <td>Formosa</td>\n",
       "      <td>-0.495230</td>\n",
       "    </tr>\n",
       "    <tr>\n",
       "      <th>8</th>\n",
       "      <td>Jujuy</td>\n",
       "      <td>-1.006513</td>\n",
       "    </tr>\n",
       "    <tr>\n",
       "      <th>9</th>\n",
       "      <td>La Pampa</td>\n",
       "      <td>0.275371</td>\n",
       "    </tr>\n",
       "    <tr>\n",
       "      <th>10</th>\n",
       "      <td>La Rioja</td>\n",
       "      <td>-1.138921</td>\n",
       "    </tr>\n",
       "    <tr>\n",
       "      <th>11</th>\n",
       "      <td>Mendoza</td>\n",
       "      <td>1.185149</td>\n",
       "    </tr>\n",
       "    <tr>\n",
       "      <th>12</th>\n",
       "      <td>Misiones</td>\n",
       "      <td>-0.533255</td>\n",
       "    </tr>\n",
       "    <tr>\n",
       "      <th>13</th>\n",
       "      <td>Neuquen</td>\n",
       "      <td>0.333238</td>\n",
       "    </tr>\n",
       "    <tr>\n",
       "      <th>14</th>\n",
       "      <td>Rio Negro</td>\n",
       "      <td>0.179843</td>\n",
       "    </tr>\n",
       "    <tr>\n",
       "      <th>15</th>\n",
       "      <td>Salta</td>\n",
       "      <td>-0.169474</td>\n",
       "    </tr>\n",
       "    <tr>\n",
       "      <th>16</th>\n",
       "      <td>San Juan</td>\n",
       "      <td>0.426629</td>\n",
       "    </tr>\n",
       "    <tr>\n",
       "      <th>17</th>\n",
       "      <td>San Luis</td>\n",
       "      <td>0.094280</td>\n",
       "    </tr>\n",
       "    <tr>\n",
       "      <th>18</th>\n",
       "      <td>Santa Cruz</td>\n",
       "      <td>-1.626456</td>\n",
       "    </tr>\n",
       "    <tr>\n",
       "      <th>19</th>\n",
       "      <td>Santa Fe</td>\n",
       "      <td>2.437930</td>\n",
       "    </tr>\n",
       "    <tr>\n",
       "      <th>20</th>\n",
       "      <td>Santiago Del Estero</td>\n",
       "      <td>0.442704</td>\n",
       "    </tr>\n",
       "    <tr>\n",
       "      <th>21</th>\n",
       "      <td>Tucuman</td>\n",
       "      <td>-0.511195</td>\n",
       "    </tr>\n",
       "    <tr>\n",
       "      <th>22</th>\n",
       "      <td>Tierra Del Fuego</td>\n",
       "      <td>-0.499414</td>\n",
       "    </tr>\n",
       "  </tbody>\n",
       "</table>\n",
       "</div>"
      ],
      "text/plain": [
       "              provincia       COI\n",
       "0          Buenos Aires -2.235414\n",
       "1             Catamarca  0.151752\n",
       "2               Cordoba  1.935683\n",
       "3            Corrientes  0.069207\n",
       "4                 Chaco  0.043819\n",
       "5                Chubut  0.174324\n",
       "6            Entre Rios  0.465942\n",
       "7               Formosa -0.495230\n",
       "8                 Jujuy -1.006513\n",
       "9              La Pampa  0.275371\n",
       "10             La Rioja -1.138921\n",
       "11              Mendoza  1.185149\n",
       "12             Misiones -0.533255\n",
       "13              Neuquen  0.333238\n",
       "14            Rio Negro  0.179843\n",
       "15                Salta -0.169474\n",
       "16             San Juan  0.426629\n",
       "17             San Luis  0.094280\n",
       "18           Santa Cruz -1.626456\n",
       "19             Santa Fe  2.437930\n",
       "20  Santiago Del Estero  0.442704\n",
       "21              Tucuman -0.511195\n",
       "22     Tierra Del Fuego -0.499414"
      ]
     },
     "execution_count": 304,
     "metadata": {},
     "output_type": "execute_result"
    }
   ],
   "source": [
    "coi_all = np.matmul(non_RCA_all * inv_distance_all_pa, ica_U01)\n",
    "coi_all_norm = (coi_all - coi_all.mean())/coi_all.std()\n",
    "pd.DataFrame({'provincia': provincias, 'COI': coi_all_norm})"
   ]
  },
  {
   "cell_type": "code",
   "execution_count": 305,
   "id": "fb7e7063",
   "metadata": {},
   "outputs": [],
   "source": [
    "with open(f'serializables/coi.pkl','wb') as f:\n",
    "    pickle.dump(coi_all_norm, f)"
   ]
  }
 ],
 "metadata": {
  "kernelspec": {
   "display_name": "Python 3 (ipykernel)",
   "language": "python",
   "name": "python3"
  },
  "language_info": {
   "codemirror_mode": {
    "name": "ipython",
    "version": 3
   },
   "file_extension": ".py",
   "mimetype": "text/x-python",
   "name": "python",
   "nbconvert_exporter": "python",
   "pygments_lexer": "ipython3",
   "version": "3.9.6"
  }
 },
 "nbformat": 4,
 "nbformat_minor": 5
}
